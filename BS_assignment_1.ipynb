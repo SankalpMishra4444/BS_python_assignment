{
 "cells": [
  {
   "cell_type": "code",
   "execution_count": 1,
   "id": "68ae19ce-9957-45ba-90ad-0c2fc13f29fa",
   "metadata": {},
   "outputs": [],
   "source": [
    "import os"
   ]
  },
  {
   "cell_type": "code",
   "execution_count": 2,
   "id": "3c8e83c0-2784-41ae-a3fd-0588f473ae14",
   "metadata": {},
   "outputs": [],
   "source": [
    "import shutil"
   ]
  },
  {
   "cell_type": "code",
   "execution_count": 4,
   "id": "d2a68b20-dadf-4d21-a073-4fff8464c480",
   "metadata": {},
   "outputs": [
    {
     "ename": "SyntaxError",
     "evalue": "unexpected EOF while parsing (2685304887.py, line 9)",
     "output_type": "error",
     "traceback": [
      "\u001b[1;36m  Cell \u001b[1;32mIn[4], line 9\u001b[1;36m\u001b[0m\n\u001b[1;33m    \u001b[0m\n\u001b[1;37m    ^\u001b[0m\n\u001b[1;31mSyntaxError\u001b[0m\u001b[1;31m:\u001b[0m unexpected EOF while parsing\n"
     ]
    }
   ],
   "source": [
    "def rename_and_copy_files(source_folder, destination_folder):\n",
    "    try:\n",
    "        # Let's if destination folder doesn't exist then we create first\n",
    "        if not os.path.exists(destination_folder):\n",
    "            os.makesdirs(destination_folder)\n",
    "        # List all the dir from source folder where are .mp4 files are\n",
    "        file_list = os.listdir(source_folder)\n",
    "        # Filtering the .mp4 files if we contain\n",
    "        mp4_files = [for file in file_list if file.lower().endswith(\".mp4\")]\n",
    "        # now let's for better view we can sort the mp4_files\n",
    "        mp4_files.sort()\n",
    "        # Now we get the proper data by above command\n",
    "        # now we will generate the rename and copy program to the destination folder\n",
    "        for index, mp4_file in enumerate(mp4_files, start=1):\n",
    "            new_name = f\"VS_{index:03}.mp4\"\n",
    "            source_path = os.path.join(source_folder, mp4_file)\n",
    "            destination_path = os.path.join(destination folder, new_name)\n",
    "            # Now copy it\n",
    "            shutil.copy2(source_path, destination_folder)\n",
    "            print(f\"Copied and renamed {mp4_file} to  {new_name}\")\n",
    "\n",
    "        print(\"Task Done successfully\")\n",
    "    except Exception as e:\n",
    "        print(f\"An Error occured: {e}\")\n",
    "\n",
    "# Specify the paths to \"folder_1\" and \"folder_2\"\n",
    "# folder_1_path = \"path/to/folder_1\"\n",
    "# folder_2_path = \"path/to/folder_2\"\n",
    "\n",
    "# Call the rename_and_copy_files function\n",
    "# rename_and_copy_files(folder_1_path, folder_2_path)\n",
    "            \n",
    "        "
   ]
  },
  {
   "cell_type": "code",
   "execution_count": null,
   "id": "f30ed963-7d78-45cd-b54e-69229b1ce02c",
   "metadata": {},
   "outputs": [],
   "source": []
  }
 ],
 "metadata": {
  "kernelspec": {
   "display_name": "Python 3 (ipykernel)",
   "language": "python",
   "name": "python3"
  },
  "language_info": {
   "codemirror_mode": {
    "name": "ipython",
    "version": 3
   },
   "file_extension": ".py",
   "mimetype": "text/x-python",
   "name": "python",
   "nbconvert_exporter": "python",
   "pygments_lexer": "ipython3",
   "version": "3.8.1"
  }
 },
 "nbformat": 4,
 "nbformat_minor": 5
}
