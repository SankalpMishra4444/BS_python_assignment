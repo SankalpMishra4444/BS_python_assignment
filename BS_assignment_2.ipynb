{
 "cells": [
  {
   "cell_type": "code",
   "execution_count": 1,
   "id": "dfdaa6e9-0384-44c1-9275-af00f445dc07",
   "metadata": {},
   "outputs": [],
   "source": [
    "import os"
   ]
  },
  {
   "cell_type": "code",
   "execution_count": 2,
   "id": "37220a4d-4f2f-4566-8e11-87bd30b430b5",
   "metadata": {},
   "outputs": [],
   "source": [
    "import shutil"
   ]
  },
  {
   "cell_type": "code",
   "execution_count": 5,
   "id": "84c9f678-6354-4743-96fb-9707c10ba465",
   "metadata": {},
   "outputs": [],
   "source": [
    "import schedule"
   ]
  },
  {
   "cell_type": "code",
   "execution_count": 4,
   "id": "3d29efd3-107b-49a8-a018-06638420bffe",
   "metadata": {},
   "outputs": [
    {
     "name": "stdout",
     "output_type": "stream",
     "text": [
      "Collecting schedule\n",
      "  Downloading schedule-1.2.0-py2.py3-none-any.whl (11 kB)\n",
      "Installing collected packages: schedule\n",
      "Successfully installed schedule-1.2.0\n"
     ]
    },
    {
     "name": "stderr",
     "output_type": "stream",
     "text": [
      "\n",
      "[notice] A new release of pip is available: 23.1.2 -> 23.2.1\n",
      "[notice] To update, run: python.exe -m pip install --upgrade pip\n"
     ]
    }
   ],
   "source": [
    "!pip install schedule"
   ]
  },
  {
   "cell_type": "code",
   "execution_count": 6,
   "id": "665986e7-6587-41c3-a6d3-6dd914bd4655",
   "metadata": {},
   "outputs": [],
   "source": [
    "import time"
   ]
  },
  {
   "cell_type": "code",
   "execution_count": 7,
   "id": "90a2a828-c886-4108-a456-e1f1ac24c102",
   "metadata": {},
   "outputs": [
    {
     "ename": "IndentationError",
     "evalue": "expected an indented block (257736462.py, line 35)",
     "output_type": "error",
     "traceback": [
      "\u001b[1;36m  Cell \u001b[1;32mIn[7], line 35\u001b[1;36m\u001b[0m\n\u001b[1;33m    schedule.every().hour.do(_auto_)\u001b[0m\n\u001b[1;37m    ^\u001b[0m\n\u001b[1;31mIndentationError\u001b[0m\u001b[1;31m:\u001b[0m expected an indented block\n"
     ]
    }
   ],
   "source": [
    "def rename_and_copy_files(source_folder, destination_folder):\n",
    "    try:\n",
    "        # Let's if destination folder doesn't exist then we create first\n",
    "        if not os.path.exists(destination_folder):\n",
    "            os.makesdirs(destination_folder)\n",
    "        # List all the dir from source folder where are .mp4 files are\n",
    "        file_list = os.listdir(source_folder)\n",
    "        # Filtering the .mp4 files if we contain\n",
    "        mp4_files = [file for file in file_list if file.lower().endswith(\".mp4\")]\n",
    "        # now let's for better view we can sort the mp4_files\n",
    "        mp4_files.sort()\n",
    "        # Now we get the proper data by above command\n",
    "        # now we will generate the rename and copy program to the destination folder\n",
    "        for index, mp4_file in enumerate(mp4_files, start=1):\n",
    "            new_name = f\"VS_{index:03}.mp4\"\n",
    "            source_path = os.path.join(source_folder, mp4_file)\n",
    "            destination_path = os.path.join(destination_folder, new_name)\n",
    "            # Now copy it\n",
    "            shutil.copy2(source_path, destination_folder)\n",
    "            print(f\"Copied and renamed {mp4_file} to  {new_name}\")\n",
    "\n",
    "        print(\"Task Done successfully\")\n",
    "    except Exception as e:\n",
    "        print(f\"An Error occured: {e}\")\n",
    "\n",
    "def _auto_():\n",
    "    # Specify the paths to \"folder_1\" and \"folder_2\"\n",
    "    # folder_1_path = \"path/to/folder_1\"\n",
    "    # folder_2_path = \"path/to/folder_2\"\n",
    "    \n",
    "    # Call the rename_and_copy_files function\n",
    "    # rename_and_copy_files(folder_1_path, folder_2_path)\n",
    "\n",
    "# Let's Schedule to repeat task in every one hour\n",
    "schedule.every().hour.do(_auto_)\n",
    "\n",
    "while True:\n",
    "    schedule.run_pending() # it will check anything left \n",
    "    time.sleep(1)\n",
    "    \n",
    "    "
   ]
  },
  {
   "cell_type": "code",
   "execution_count": null,
   "id": "5d742c54-21b6-44c3-8f4a-68599fb6151c",
   "metadata": {},
   "outputs": [],
   "source": []
  }
 ],
 "metadata": {
  "kernelspec": {
   "display_name": "Python 3 (ipykernel)",
   "language": "python",
   "name": "python3"
  },
  "language_info": {
   "codemirror_mode": {
    "name": "ipython",
    "version": 3
   },
   "file_extension": ".py",
   "mimetype": "text/x-python",
   "name": "python",
   "nbconvert_exporter": "python",
   "pygments_lexer": "ipython3",
   "version": "3.8.1"
  }
 },
 "nbformat": 4,
 "nbformat_minor": 5
}
